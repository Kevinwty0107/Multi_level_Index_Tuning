{
 "cells": [
  {
   "cell_type": "code",
   "execution_count": null,
   "metadata": {},
   "outputs": [],
   "source": [
    "a = [12,4]\n",
    "print(a.copy())\n",
    "import rlgraph\n",
    "#from rlgraph.spaces.int_box import IntBox\n",
    "#from rlgraph.spaces.containers import Dict\n",
    "import os\n",
    "import gflags\n",
    "import sys\n",
    "import json\n",
    "import pickle\n",
    "head, tail = os.path.split(__file__)\n",
    "with open('/Users/wangtaiyi/Documents/Graduate/Cambridge/Research/RL/Learning_Index_Selection/index_Code/RLAutoIndex/conf/dqn.json', 'r') as f:\n",
    "    config = json.load(f)\n",
    "agent_config = config['agent']\n",
    "print(head,'\\n', tail)\n",
    "sys.path.insert(0, os.path.join(head, '../')) # /src\n",
    "print(sys.path) # src\n",
    "\n",
    "with open(os.path.join('/Users/wangtaiyi/Documents/Graduate/Cambridge/Research/RL/Learning_Index_Selection/index_Code/res/01-29-22_00:56/dqn', 'test_index_set_stats.csv'), 'rb') as f:\n",
    "    test_index_set_stats = pickle.load(f)\n",
    "        \n",
    "index_set_size = test_index_set_stats[0]\n",
    "print(index_set_size )\n",
    "\n",
    "print(dict(abc=[1,2,3],edf=[24]))"
   ]
  },
  {
   "cell_type": "code",
   "execution_count": 29,
   "metadata": {},
   "outputs": [
    {
     "name": "stdout",
     "output_type": "stream",
     "text": [
      "'SELECT COUNT(*) FROM lineitem WHERE L_LINESTATUS = '%s' AND L_COMMITDATE > '%s' AND L_QUANTITY < '%s' ',,,'[]',\n",
      "\n"
     ]
    }
   ],
   "source": [
    "import os, sys \n",
    "from sql_query import SQLQuery\n",
    "\n",
    "query = \"SELECT COUNT(*) FROM lineitem WHERE L_LINESTATUS = '%s' AND L_COMMITDATE > '%s' AND L_QUANTITY < '%s' \"\n",
    "#token = Q.as_tokens()\n",
    "Q = SQLQuery(query)\n",
    "print(Q.as_csv_row())\n"
   ]
  },
  {
   "cell_type": "code",
   "execution_count": 193,
   "metadata": {},
   "outputs": [
    {
     "name": "stdout",
     "output_type": "stream",
     "text": [
      "<class 'int'>\n",
      "4736509 100000 4636509\n"
     ]
    }
   ],
   "source": [
    "#row 0, id\n",
    "import csv\n",
    "import numpy as np\n",
    "with open('title.csv','r') as csvfile:\n",
    "    reader = csv.reader(csvfile)   \n",
    "    column = [int(row[0]) for row in reader]\n",
    "print(type(column[0]))\n",
    "print(np.max(column),np.min(column),len(column))\n"
   ]
  },
  {
   "cell_type": "code",
   "execution_count": null,
   "metadata": {},
   "outputs": [],
   "source": []
  },
  {
   "cell_type": "code",
   "execution_count": 32,
   "metadata": {},
   "outputs": [
    {
     "name": "stdout",
     "output_type": "stream",
     "text": [
      "Ted Danson/Andrew Norelli\n",
      "(#1.43)\n",
      "Der zweite Tag nach dem Tod\n",
      "(#1.4)\n",
      "Lois and Clarks\n",
      "(#1.796)\n",
      "(2017-02-28)\n",
      "All This and Mary Too\n",
      "(2003-03-02)\n",
      "Hyenas Will Eat Anything\n",
      "Death Lends a Hand\n",
      "(1995-01-12)\n",
      "(2002-01-03)\n",
      "(#1.90)\n",
      "Une nouvelle amitié\n",
      "(#2.35)\n",
      "(#2.227)\n",
      "Silvia\n",
      "Heaven Is a Real Place\n",
      "The Double Up\n",
      "(#1.149)\n",
      "(2005-08-08)\n",
      "(#1.18)\n",
      "Otto minuti\n",
      "(2013-12-26)\n",
      "Opt Out\n",
      "1\n",
      "The Diary\n",
      "(#11.57)\n",
      "(#9.7)\n",
      "Good Fences/Butterflies\n"
     ]
    }
   ],
   "source": [
    "#row 1, title\n",
    "import csv\n",
    "import numpy as np\n",
    "import random\n",
    "def sample_fnr1(n):\n",
    "    with open('title.csv','r') as csvfile:\n",
    "        reader = csv.reader(csvfile)   \n",
    "        column = [row[1] for row in reader]\n",
    "\n",
    "    rand_low = random.randint(0,len(column))\n",
    "    rand_high = rand_low+n\n",
    "    list =column[rand_low:rand_high]\n",
    "    k = random.choice(list)\n",
    "    k = k.replace(\"'\",\"_\")\n",
    "    for _ in range(10):\n",
    "        if \"_\" in k:\n",
    "            print(1)\n",
    "            rand_low = random.randint(0,len(column))\n",
    "            rand_high = rand_low+n\n",
    "            list =column[rand_low:rand_high]\n",
    "            k = random.choice(list)\n",
    "            k = k.replace(\"'\",\"_\")\n",
    "        else:\n",
    "            break\n",
    "    return(k)\n",
    "\n",
    "for _ in range(30):\n",
    "    print(sample_fnr1(1))"
   ]
  },
  {
   "cell_type": "code",
   "execution_count": 29,
   "metadata": {},
   "outputs": [
    {
     "data": {
      "text/plain": [
       "\"oldw'ttw\""
      ]
     },
     "execution_count": 29,
     "metadata": {},
     "output_type": "execute_result"
    }
   ],
   "source": [
    "old_str = \"oldw'ttw\"\n",
    "old_str.replace(\"'\",\"_\")\n",
    "old_str"
   ]
  },
  {
   "cell_type": "code",
   "execution_count": 1,
   "metadata": {},
   "outputs": [
    {
     "name": "stdout",
     "output_type": "stream",
     "text": [
      "VIII\n"
     ]
    }
   ],
   "source": [
    "#row 2, imdb_index \n",
    "import csv\n",
    "import numpy as np\n",
    "import random\n",
    "def sample_fnr2():\n",
    "    with open('title.csv','r') as csvfile:\n",
    "        reader = csv.reader(csvfile) \n",
    "        for row in reader:\n",
    "            row_list = list([row[2]])\n",
    "            #if list([row[2]]) == ['XVII']:\n",
    "            #    print([row])\n",
    "\n",
    "    with open('title.csv','r') as csvfile:\n",
    "        reader = csv.reader(csvfile) \n",
    "        column = [row[2] for row in reader]\n",
    "        conditional_col = column.index('XVII')\n",
    "\n",
    "    #print(conditional_col)\n",
    "\n",
    "    col = list(set(column))\n",
    "    return(random.choice(col))\n",
    "\n",
    "print(sample_fnr2())"
   ]
  },
  {
   "cell_type": "code",
   "execution_count": 54,
   "metadata": {},
   "outputs": [
    {
     "name": "stdout",
     "output_type": "stream",
     "text": [
      "['21', 'Mark', 'Python', 'London', 'Morning']\n",
      "['22', 'John', 'Python', 'Tokyo', 'Evening']\n",
      "['23', 'Sam', 'Python', 'Paris', 'Morning']\n"
     ]
    }
   ],
   "source": [
    "from csv import reader\n",
    "# open file in read mode\n",
    "with open('students.csv', 'r') as read_obj:\n",
    "    # pass the file object to reader() to get the reader object\n",
    "    csv_reader = reader(read_obj)\n",
    "    # Iterate over each row in the csv using reader object\n",
    "    for row in csv_reader:\n",
    "        if row[2] == 'Python':\n",
    "        # row variable is a list that represents a row in csv\n",
    "            print(row)"
   ]
  },
  {
   "cell_type": "code",
   "execution_count": 225,
   "metadata": {},
   "outputs": [
    {
     "name": "stdout",
     "output_type": "stream",
     "text": [
      "8\n",
      "{1, 2, 3, 4, 5, 6, 7, 8, 9, 10, 11, 12, 13, 14, 15, 16, 17, 18, 19, 20, 21, 22, 23, 24, 25, 26, 27, 28, 29, 30, 31, 32, 33, 34, 35, 36, 37, 38, 39, 40, 41, 42, 43, 44, 45, 46, 47, 48, 49, 50, 51, 52, 53, 54, 55, 56, 57, 58, 59, 60, 61, 62, 63, 64, 65, 66, 67, 68, 69, 70, 71, 72, 73, 74, 75, 76, 77, 78, 79, 80, 81, 82, 83, 84, 85, 86, 87, 88, 89, 90, 91, 92, 93, 94, 95, 96, 97, 98, 99, 100, 101, 102, 103, 104, 105, 106, 107, 108, 109, 110, 111, 112, 113, 114, 115, 116, 117, 118, 119, 120, 121, 122, 123, 124, 125, 126, 127, 128, 129, 130, 131, 132, 133, 134, 135, 136, 137, 138, 189, 190, 191, 201, 2006, 2007, 2008, 2009, 2010, 2011, 2012, 2013, 2014, 2015}\n"
     ]
    }
   ],
   "source": [
    "#row 3, kind_id\n",
    "import csv\n",
    "import numpy as np\n",
    "import random\n",
    "def sample_fnr3():\n",
    "    with open('title.csv','r') as csvfile:\n",
    "        reader = csv.reader(csvfile)   \n",
    "        column = [row[3] for row in reader]\n",
    "\n",
    "    col = list(set(column))\n",
    "    return(random.choice(col))\n",
    "\n",
    "print(sample_fnr3())\n",
    "print(set(column))"
   ]
  },
  {
   "cell_type": "code",
   "execution_count": 60,
   "metadata": {},
   "outputs": [
    {
     "name": "stdout",
     "output_type": "stream",
     "text": [
      "{'', '1933', '1908', '1945', '2015', '2000', '1923', '1936', '1957', '1994', '2018', '1899', '1891', '1975', '1968', '2010', '1972', '1948', '1913', '1900', '1912', '1989', '2007', '1930', '1895', '1976', '1940', '1909', '1938', '2004', '1954', '1890', '1969', '1998', '2023', '1889', '1926', '1981', '1959', '1986', '1997', '1977', '1963', '1956', '1922', '1951', '2026', '1983', '1887', '1932', '1917', '1992', '2011', '2017', '1903', '1955', '1874', '1979', '1924', '1947', '1901', '1904', '1925', '1939', '1960', '1984', '1966', '1920', '1980', '2013', '1964', '1991', '1961', '1962', '1978', '2020', '1898', '1982', '2012', '1995', '2021', '2001', '1910', '1973', '1958', '2002', '1950', '1952', '1897', '1929', '1970', '1916', '2025', '1888', '1971', '1907', '1896', '1941', '1911', '1937', '2006', '1942', '1987', '1905', '1919', '1985', '1996', '1931', '2014', '2115', '2008', '1965', '2005', '1894', '1893', '1993', '1878', '1967', '1902', '2003', '1974', '1944', '1928', '1918', '1915', '2009', '1946', '2022', '1914', '1883', '1999', '1934', '2016', '1927', '1949', '1906', '1892', '2019', '1921', '1988', '1953', '2024', '1990', '1943', '1935'}\n"
     ]
    }
   ],
   "source": [
    "#row 4, production_year\n",
    "import csv\n",
    "import numpy as np\n",
    "import random\n",
    "with open('title.csv','r') as csvfile:\n",
    "    reader = csv.reader(csvfile)   \n",
    "    column = [row[4] for row in reader]\n",
    "\n",
    "print(set(column))"
   ]
  },
  {
   "cell_type": "code",
   "execution_count": 79,
   "metadata": {},
   "outputs": [
    {
     "name": "stdout",
     "output_type": "stream",
     "text": [
      "{''}\n"
     ]
    }
   ],
   "source": [
    "#row 5, imdb_id\n",
    "import csv\n",
    "import numpy as np\n",
    "import random\n",
    "with open('title.csv','r') as csvfile:\n",
    "    reader = csv.reader(csvfile)   \n",
    "    column = [row[5] for row in reader]\n",
    "\n",
    "print(set(column))"
   ]
  },
  {
   "cell_type": "code",
   "execution_count": 231,
   "metadata": {},
   "outputs": [
    {
     "name": "stdout",
     "output_type": "stream",
     "text": [
      "O5326\n"
     ]
    }
   ],
   "source": [
    "#row 6, phonetic_code \n",
    "import csv\n",
    "import numpy as np\n",
    "import random\n",
    "def sample_fnr6(k):\n",
    "    with open('title.csv','r') as csvfile:\n",
    "        reader = csv.reader(csvfile)   \n",
    "        l_list = []\n",
    "        n_list = []\n",
    "        l_n_list = []\n",
    "        for row in reader:\n",
    "            row_list = list([row[6]])\n",
    "            #print(row_list )\n",
    "            #print(row_list)\n",
    "            if row_list != ['']:\n",
    "                row_list = list(row_list[0])\n",
    "                l = row_list.pop(0)\n",
    "                n = \"\".join(row_list)\n",
    "                l_list.append(l)\n",
    "                n_list.append(n)\n",
    "        \n",
    "        for _ in range(k):\n",
    "            l = random.choice(l_list)\n",
    "            n = random.choice(n_list)\n",
    "            ln = (l,n)\n",
    "            l_n = ''.join(ln)\n",
    "            l_n_list.append(l_n)\n",
    "\n",
    "    return random.choice(l_n_list)\n",
    "\n",
    "print(sample_fnr6(1))"
   ]
  },
  {
   "cell_type": "code",
   "execution_count": 228,
   "metadata": {},
   "outputs": [
    {
     "name": "stdout",
     "output_type": "stream",
     "text": [
      "728300\n"
     ]
    }
   ],
   "source": [
    "#row 7, episode_of_id\n",
    "import csv\n",
    "import numpy as np\n",
    "import random\n",
    "def sample_fnr7():\n",
    "    with open('title.csv','r') as csvfile:\n",
    "        reader = csv.reader(csvfile) \n",
    "        column=[]\n",
    "        for row in reader:\n",
    "            if list([row[7]])!= ['']: \n",
    "                column.append(int(row[7]))\n",
    "        column.sort()\n",
    "\n",
    "    col = sorted(set(column))\n",
    "    return(random.choice(col))\n",
    "\n",
    "\n",
    "print(sample_fnr7())"
   ]
  },
  {
   "cell_type": "code",
   "execution_count": 229,
   "metadata": {},
   "outputs": [
    {
     "name": "stdout",
     "output_type": "stream",
     "text": [
      "122\n"
     ]
    }
   ],
   "source": [
    "#row 8, season_nr \n",
    "import csv\n",
    "import numpy as np\n",
    "import random\n",
    "def sample_fnr8():\n",
    "    with open('title.csv','r') as csvfile:\n",
    "        reader = csv.reader(csvfile)   \n",
    "        column=[]\n",
    "        for row in reader:\n",
    "            if list([row[8]])!= ['']: \n",
    "                column.append(int(row[8]))\n",
    "        #column.sort()\n",
    "    col = sorted(set(column))\n",
    "    return(random.choice(col))\n",
    "\n",
    "print(sample_fnr8())\n"
   ]
  },
  {
   "cell_type": "code",
   "execution_count": 210,
   "metadata": {},
   "outputs": [
    {
     "name": "stdout",
     "output_type": "stream",
     "text": [
      "6544\n"
     ]
    }
   ],
   "source": [
    "#row 9,episode_nr  \n",
    "import csv\n",
    "import numpy as np\n",
    "import random\n",
    "def sample_fnr9():\n",
    "    with open('title.csv','r') as csvfile:\n",
    "        reader = csv.reader(csvfile)   \n",
    "        column=[]\n",
    "        for row in reader:\n",
    "            if list([row[9]])!= ['']: \n",
    "                column.append(int(row[9]))\n",
    "        column.sort()\n",
    "    col = sorted(set(column))\n",
    "    return random.choice(col)\n",
    "\n",
    "print(sample_fnr9())\n"
   ]
  },
  {
   "cell_type": "code",
   "execution_count": 184,
   "metadata": {},
   "outputs": [
    {
     "name": "stdout",
     "output_type": "stream",
     "text": [
      "['', '', '', '', '', '', '', '', '', '', '', '', '', '', '', '', '', '', '', '', '', '', '', '', '', '', '', '', '', '', '', '', '2003-????', '', '', '', '', '', '', '', '', '', '', '', '1962-????', '', '', '', '', '', '', '', '', '', '', '1983-????', '1965-????', '', '', '', '', '', '', '', '', '', '', '', '', '', '2012-????', '1972-????', '', '', '', '', '', '', '', '', '', '', '', '', '', '', '1996-1996', '', '', '', '', '', '', '', '', '', '', '', '', '1984-1998']\n"
     ]
    }
   ],
   "source": [
    "import csv\n",
    "import numpy as np\n",
    "import random\n",
    "with open('title.csv','r') as csvfile:\n",
    "    reader = csv.reader(csvfile)   \n",
    "    column = [row[10] for row in reader]\n",
    "    col = set(column)\n",
    "\n",
    "col"
   ]
  },
  {
   "cell_type": "code",
   "execution_count": 233,
   "metadata": {},
   "outputs": [
    {
     "name": "stdout",
     "output_type": "stream",
     "text": [
      "2012-????\n"
     ]
    }
   ],
   "source": [
    "#row 10,series_years\n",
    "import csv\n",
    "import numpy as np\n",
    "import random\n",
    "\n",
    "def sample_fnr10(n):\n",
    "    str_list = []\n",
    "    yr_start_list =[]\n",
    "    yr_end_list = []\n",
    "    with open('title.csv','r') as csvfile:\n",
    "        reader = csv.reader(csvfile)   \n",
    "        for row in reader:\n",
    "            row_list = list([row[10]])\n",
    "            #print(row_list )\n",
    "            #print(row_list)\n",
    "            if row_list != ['']:\n",
    "                row_list = row_list[0].split('-')\n",
    "                yr_start = row_list.pop(0)\n",
    "                yr_end = row_list\n",
    "                #n = \"\".join(row_list)\n",
    "                yr_start_list.append(yr_start)\n",
    "                if yr_end != []:\n",
    "                    yr_end_0 = yr_end[0]\n",
    "                    yr_end_list.append(yr_end_0)\n",
    "    #print(sorted(set(yr_start_list)))\n",
    "    #print(sorted(set(yr_end_list)))\n",
    "    for _ in range(n):\n",
    "        str_1 = random.choice(yr_start_list)\n",
    "        str_2 = random.choice(yr_end_list)\n",
    "        str = (str_1, str_2)\n",
    "        if str_2 != '????' and int(str_1)<int(str_2):\n",
    "            str = '-'.join(str)\n",
    "            str_list.append(str)\n",
    "        if str_2 == '????':\n",
    "            str = '-'.join(str)\n",
    "            str_list.append(str)\n",
    "    return str_list[0]\n",
    "\n",
    "print(sample_fnr10(1))\n"
   ]
  },
  {
   "cell_type": "code",
   "execution_count": 214,
   "metadata": {},
   "outputs": [
    {
     "name": "stdout",
     "output_type": "stream",
     "text": [
      "9ba221b318af4e0d122c1d2fcb4fa2f4\n"
     ]
    }
   ],
   "source": [
    "#row 11,  md5sum \n",
    "import csv\n",
    "import numpy as np\n",
    "import random\n",
    "def sample_fnr11(n): \n",
    "    with open('title.csv','r') as csvfile:\n",
    "        reader = csv.reader(csvfile)   \n",
    "        column = [row[11] for row in reader]\n",
    "\n",
    "    rand_low = random.randint(0,len(column))\n",
    "    rand_high = rand_low+n\n",
    "    return(column[rand_low:rand_high][0])\n",
    "\n",
    "print(sample_fnr11(1))"
   ]
  },
  {
   "cell_type": "code",
   "execution_count": 224,
   "metadata": {},
   "outputs": [
    {
     "data": {
      "text/plain": [
       "array([0.        , 0.33333333, 0.66666667])"
      ]
     },
     "execution_count": 224,
     "metadata": {},
     "output_type": "execute_result"
    }
   ],
   "source": [
    "n_selections = 3\n",
    "prob_delta = 2/(n_selections*(n_selections-1))\n",
    "p = np.arange(0.0,2/(n_selections-1), prob_delta)\n",
    "p"
   ]
  }
 ],
 "metadata": {
  "interpreter": {
   "hash": "80c18ea57fee6e44f2aaef3eefda70117a758a9dacb0599dde599ed8bf03809a"
  },
  "kernelspec": {
   "display_name": "Python 3.7.12 ('base')",
   "language": "python",
   "name": "python3"
  },
  "language_info": {
   "codemirror_mode": {
    "name": "ipython",
    "version": 3
   },
   "file_extension": ".py",
   "mimetype": "text/x-python",
   "name": "python",
   "nbconvert_exporter": "python",
   "pygments_lexer": "ipython3",
   "version": "3.7.12"
  },
  "orig_nbformat": 4
 },
 "nbformat": 4,
 "nbformat_minor": 2
}
